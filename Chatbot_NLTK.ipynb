{
  "cells": [
    {
      "cell_type": "markdown",
      "metadata": {
        "id": "view-in-github",
        "colab_type": "text"
      },
      "source": [
        "<a href=\"https://colab.research.google.com/github/Rida7-hub/CustomerSegmentationEDA/blob/main/Chatbot_NLTK.ipynb\" target=\"_parent\"><img src=\"https://colab.research.google.com/assets/colab-badge.svg\" alt=\"Open In Colab\"/></a>"
      ]
    },
    {
      "cell_type": "code",
      "execution_count": null,
      "id": "ff59420c-eba3-47a3-9d9a-700151f3caf1",
      "metadata": {
        "tags": [],
        "id": "ff59420c-eba3-47a3-9d9a-700151f3caf1",
        "outputId": "6b69f2de-fa68-47bb-fb70-c40d7aeddcc0"
      },
      "outputs": [
        {
          "name": "stderr",
          "output_type": "stream",
          "text": [
            "[nltk_data] Downloading package punkt to\n",
            "[nltk_data]     C:\\Users\\Lenovo\\AppData\\Roaming\\nltk_data...\n",
            "[nltk_data]   Package punkt is already up-to-date!\n",
            "[nltk_data] Downloading package wordnet to\n",
            "[nltk_data]     C:\\Users\\Lenovo\\AppData\\Roaming\\nltk_data...\n",
            "[nltk_data]   Package wordnet is already up-to-date!\n"
          ]
        },
        {
          "data": {
            "text/plain": [
              "True"
            ]
          },
          "execution_count": 14,
          "metadata": {},
          "output_type": "execute_result"
        }
      ],
      "source": [
        "import nltk\n",
        "import json\n",
        "import random\n",
        "from nltk.tokenize import word_tokenize\n",
        "from nltk.stem import WordNetLemmatizer\n",
        "\n",
        "# Download NLTK data\n",
        "nltk.download('punkt')\n",
        "nltk.download('wordnet')\n"
      ]
    },
    {
      "cell_type": "code",
      "execution_count": null,
      "id": "f6bc992b-6e13-4740-a777-37a0f36db37f",
      "metadata": {
        "tags": [],
        "id": "f6bc992b-6e13-4740-a777-37a0f36db37f"
      },
      "outputs": [],
      "source": [
        "import json\n",
        "\n",
        "def get_content(filename, encoding='utf-8'):\n",
        "    with open(filename, 'r', encoding=encoding, errors='ignore') as content_file:\n",
        "        data = json.load(content_file)\n",
        "    return data\n",
        "\n",
        "data = get_content(r\"C:\\Users\\Lenovo\\Downloads\\intents.json\")\n"
      ]
    },
    {
      "cell_type": "code",
      "execution_count": null,
      "id": "de109122-83e5-4ab8-bde2-db48248c103c",
      "metadata": {
        "tags": [],
        "id": "de109122-83e5-4ab8-bde2-db48248c103c"
      },
      "outputs": [],
      "source": [
        "# Initialize lemmatizer\n",
        "lemmatizer = WordNetLemmatizer()"
      ]
    },
    {
      "cell_type": "code",
      "execution_count": null,
      "id": "72cd5dfd-ab25-45a7-bf7b-fc6977e17e2a",
      "metadata": {
        "tags": [],
        "id": "72cd5dfd-ab25-45a7-bf7b-fc6977e17e2a"
      },
      "outputs": [],
      "source": [
        "# Define functions for preprocessing and tokenizing\n",
        "def preprocess_text(text):\n",
        "    return [lemmatizer.lemmatize(word.lower()) for word in word_tokenize(text)]"
      ]
    },
    {
      "cell_type": "code",
      "execution_count": null,
      "id": "a0026266-6140-4a06-95a8-2691580b77cd",
      "metadata": {
        "tags": [],
        "id": "a0026266-6140-4a06-95a8-2691580b77cd"
      },
      "outputs": [],
      "source": [
        "# Create training data\n",
        "training_data = []\n",
        "for intent in data['intents']:\n",
        "    for pattern in intent['patterns']:\n",
        "        tokens = preprocess_text(pattern)\n",
        "        training_data.append((tokens, intent['tag']))"
      ]
    },
    {
      "cell_type": "code",
      "execution_count": null,
      "id": "81d7ca8a-e126-4627-828c-0d6dfc098cb8",
      "metadata": {
        "tags": [],
        "id": "81d7ca8a-e126-4627-828c-0d6dfc098cb8"
      },
      "outputs": [],
      "source": [
        "# Shuffle the training data\n",
        "random.shuffle(training_data)"
      ]
    },
    {
      "cell_type": "code",
      "execution_count": null,
      "id": "460267d4-bdc4-4f4a-a575-a6f9aa5ec7df",
      "metadata": {
        "tags": [],
        "id": "460267d4-bdc4-4f4a-a575-a6f9aa5ec7df"
      },
      "outputs": [],
      "source": [
        "# Extract features from the training data\n",
        "X_train = []\n",
        "y_train = []\n",
        "for (pattern, tag) in training_data:\n",
        "    X_train.append(pattern)\n",
        "    y_train.append(tag)\n"
      ]
    },
    {
      "cell_type": "code",
      "execution_count": null,
      "id": "57bbf337-908d-41f9-bb34-b580ffbbb287",
      "metadata": {
        "tags": [],
        "id": "57bbf337-908d-41f9-bb34-b580ffbbb287"
      },
      "outputs": [],
      "source": [
        "# Define the classifier (you can use any classifier of your choice)\n",
        "from sklearn.feature_extraction.text import TfidfVectorizer\n",
        "from sklearn.svm import LinearSVC"
      ]
    },
    {
      "cell_type": "code",
      "execution_count": null,
      "id": "634e1ffb-4420-4618-81f0-08914dc1b8d4",
      "metadata": {
        "tags": [],
        "id": "634e1ffb-4420-4618-81f0-08914dc1b8d4",
        "outputId": "d07ed3fb-d95b-4c8f-9ac8-95634c2a6d28"
      },
      "outputs": [
        {
          "name": "stderr",
          "output_type": "stream",
          "text": [
            "C:\\Users\\Lenovo\\AppData\\Local\\anaconda3\\Lib\\site-packages\\sklearn\\feature_extraction\\text.py:525: UserWarning: The parameter 'token_pattern' will not be used since 'tokenizer' is not None'\n",
            "  warnings.warn(\n"
          ]
        }
      ],
      "source": [
        "vectorizer = TfidfVectorizer(max_features=1000, tokenizer=lambda x: x, preprocessor=lambda x: x)\n",
        "X_train_vectorized = vectorizer.fit_transform(X_train)"
      ]
    },
    {
      "cell_type": "code",
      "execution_count": null,
      "id": "53908b81-c5e3-467d-bcac-40bbfee17709",
      "metadata": {
        "tags": [],
        "id": "53908b81-c5e3-467d-bcac-40bbfee17709",
        "outputId": "24be024d-bd4a-438c-e0d1-5ad193d9d5c0"
      },
      "outputs": [
        {
          "name": "stderr",
          "output_type": "stream",
          "text": [
            "C:\\Users\\Lenovo\\AppData\\Local\\anaconda3\\Lib\\site-packages\\sklearn\\svm\\_classes.py:32: FutureWarning: The default value of `dual` will change from `True` to `'auto'` in 1.5. Set the value of `dual` explicitly to suppress the warning.\n",
            "  warnings.warn(\n"
          ]
        },
        {
          "data": {
            "text/html": [
              "<style>#sk-container-id-1 {color: black;}#sk-container-id-1 pre{padding: 0;}#sk-container-id-1 div.sk-toggleable {background-color: white;}#sk-container-id-1 label.sk-toggleable__label {cursor: pointer;display: block;width: 100%;margin-bottom: 0;padding: 0.3em;box-sizing: border-box;text-align: center;}#sk-container-id-1 label.sk-toggleable__label-arrow:before {content: \"▸\";float: left;margin-right: 0.25em;color: #696969;}#sk-container-id-1 label.sk-toggleable__label-arrow:hover:before {color: black;}#sk-container-id-1 div.sk-estimator:hover label.sk-toggleable__label-arrow:before {color: black;}#sk-container-id-1 div.sk-toggleable__content {max-height: 0;max-width: 0;overflow: hidden;text-align: left;background-color: #f0f8ff;}#sk-container-id-1 div.sk-toggleable__content pre {margin: 0.2em;color: black;border-radius: 0.25em;background-color: #f0f8ff;}#sk-container-id-1 input.sk-toggleable__control:checked~div.sk-toggleable__content {max-height: 200px;max-width: 100%;overflow: auto;}#sk-container-id-1 input.sk-toggleable__control:checked~label.sk-toggleable__label-arrow:before {content: \"▾\";}#sk-container-id-1 div.sk-estimator input.sk-toggleable__control:checked~label.sk-toggleable__label {background-color: #d4ebff;}#sk-container-id-1 div.sk-label input.sk-toggleable__control:checked~label.sk-toggleable__label {background-color: #d4ebff;}#sk-container-id-1 input.sk-hidden--visually {border: 0;clip: rect(1px 1px 1px 1px);clip: rect(1px, 1px, 1px, 1px);height: 1px;margin: -1px;overflow: hidden;padding: 0;position: absolute;width: 1px;}#sk-container-id-1 div.sk-estimator {font-family: monospace;background-color: #f0f8ff;border: 1px dotted black;border-radius: 0.25em;box-sizing: border-box;margin-bottom: 0.5em;}#sk-container-id-1 div.sk-estimator:hover {background-color: #d4ebff;}#sk-container-id-1 div.sk-parallel-item::after {content: \"\";width: 100%;border-bottom: 1px solid gray;flex-grow: 1;}#sk-container-id-1 div.sk-label:hover label.sk-toggleable__label {background-color: #d4ebff;}#sk-container-id-1 div.sk-serial::before {content: \"\";position: absolute;border-left: 1px solid gray;box-sizing: border-box;top: 0;bottom: 0;left: 50%;z-index: 0;}#sk-container-id-1 div.sk-serial {display: flex;flex-direction: column;align-items: center;background-color: white;padding-right: 0.2em;padding-left: 0.2em;position: relative;}#sk-container-id-1 div.sk-item {position: relative;z-index: 1;}#sk-container-id-1 div.sk-parallel {display: flex;align-items: stretch;justify-content: center;background-color: white;position: relative;}#sk-container-id-1 div.sk-item::before, #sk-container-id-1 div.sk-parallel-item::before {content: \"\";position: absolute;border-left: 1px solid gray;box-sizing: border-box;top: 0;bottom: 0;left: 50%;z-index: -1;}#sk-container-id-1 div.sk-parallel-item {display: flex;flex-direction: column;z-index: 1;position: relative;background-color: white;}#sk-container-id-1 div.sk-parallel-item:first-child::after {align-self: flex-end;width: 50%;}#sk-container-id-1 div.sk-parallel-item:last-child::after {align-self: flex-start;width: 50%;}#sk-container-id-1 div.sk-parallel-item:only-child::after {width: 0;}#sk-container-id-1 div.sk-dashed-wrapped {border: 1px dashed gray;margin: 0 0.4em 0.5em 0.4em;box-sizing: border-box;padding-bottom: 0.4em;background-color: white;}#sk-container-id-1 div.sk-label label {font-family: monospace;font-weight: bold;display: inline-block;line-height: 1.2em;}#sk-container-id-1 div.sk-label-container {text-align: center;}#sk-container-id-1 div.sk-container {/* jupyter's `normalize.less` sets `[hidden] { display: none; }` but bootstrap.min.css set `[hidden] { display: none !important; }` so we also need the `!important` here to be able to override the default hidden behavior on the sphinx rendered scikit-learn.org. See: https://github.com/scikit-learn/scikit-learn/issues/21755 */display: inline-block !important;position: relative;}#sk-container-id-1 div.sk-text-repr-fallback {display: none;}</style><div id=\"sk-container-id-1\" class=\"sk-top-container\"><div class=\"sk-text-repr-fallback\"><pre>LinearSVC()</pre><b>In a Jupyter environment, please rerun this cell to show the HTML representation or trust the notebook. <br />On GitHub, the HTML representation is unable to render, please try loading this page with nbviewer.org.</b></div><div class=\"sk-container\" hidden><div class=\"sk-item\"><div class=\"sk-estimator sk-toggleable\"><input class=\"sk-toggleable__control sk-hidden--visually\" id=\"sk-estimator-id-1\" type=\"checkbox\" checked><label for=\"sk-estimator-id-1\" class=\"sk-toggleable__label sk-toggleable__label-arrow\">LinearSVC</label><div class=\"sk-toggleable__content\"><pre>LinearSVC()</pre></div></div></div></div></div>"
            ],
            "text/plain": [
              "LinearSVC()"
            ]
          },
          "execution_count": 10,
          "metadata": {},
          "output_type": "execute_result"
        }
      ],
      "source": [
        "classifier = LinearSVC()\n",
        "classifier.fit(X_train_vectorized, y_train)"
      ]
    },
    {
      "cell_type": "code",
      "execution_count": null,
      "id": "a7ca9f9e-24f7-41f6-b95d-d6527ca0c2c7",
      "metadata": {
        "tags": [],
        "id": "a7ca9f9e-24f7-41f6-b95d-d6527ca0c2c7"
      },
      "outputs": [],
      "source": [
        "# Define function to generate response\n",
        "def generate_response(text):\n",
        "    tokens = preprocess_text(text)\n",
        "    vectorized_text = vectorizer.transform([tokens])\n",
        "    predicted_tag = classifier.predict(vectorized_text)[0]\n",
        "\n",
        "    for intent in data['intents']:\n",
        "        if intent['tag'] == predicted_tag:\n",
        "            response = random.choice(intent['responses'])\n",
        "            return response\n"
      ]
    },
    {
      "cell_type": "code",
      "execution_count": null,
      "id": "9f5c9260-b298-4a84-bef4-4578f3de9ac0",
      "metadata": {
        "tags": [],
        "id": "9f5c9260-b298-4a84-bef4-4578f3de9ac0",
        "outputId": "e1b5947e-b4c0-4fe4-bde5-b7c4961d64b0"
      },
      "outputs": [
        {
          "name": "stdin",
          "output_type": "stream",
          "text": [
            "User:  Hi!\n"
          ]
        },
        {
          "name": "stdout",
          "output_type": "stream",
          "text": [
            "Bot: So, everything's okay!\n"
          ]
        },
        {
          "name": "stdin",
          "output_type": "stream",
          "text": [
            "User:  Yep\n"
          ]
        },
        {
          "name": "stdout",
          "output_type": "stream",
          "text": [
            "Bot: Hello\n"
          ]
        },
        {
          "name": "stdin",
          "output_type": "stream",
          "text": [
            "User:  Bye now\n"
          ]
        },
        {
          "name": "stdout",
          "output_type": "stream",
          "text": [
            "Bot: Goodbye!\n"
          ]
        },
        {
          "name": "stdin",
          "output_type": "stream",
          "text": [
            "User:  quit\n"
          ]
        },
        {
          "name": "stdout",
          "output_type": "stream",
          "text": [
            "Bot: Goodbye!\n"
          ]
        }
      ],
      "source": [
        "while True:\n",
        "    user_input = input(\"User: \")\n",
        "    if user_input.lower() in [\"quit\", \"exit\", \"/end\"]:\n",
        "        print(\"Bot: Goodbye!\")\n",
        "        break\n",
        "    else:\n",
        "        # Process user input and generate bot response\n",
        "        bot_response = generate_response(user_input)\n",
        "        print(\"Bot:\", bot_response)\n"
      ]
    },
    {
      "cell_type": "code",
      "execution_count": null,
      "id": "f95bf031-b740-4c83-99bd-61a86f321181",
      "metadata": {
        "id": "f95bf031-b740-4c83-99bd-61a86f321181"
      },
      "outputs": [],
      "source": []
    },
    {
      "cell_type": "code",
      "execution_count": null,
      "id": "a8101036-e0dd-4b48-9834-6196333f3ed3",
      "metadata": {
        "id": "a8101036-e0dd-4b48-9834-6196333f3ed3"
      },
      "outputs": [],
      "source": []
    }
  ],
  "metadata": {
    "kernelspec": {
      "display_name": "Python 3 (ipykernel)",
      "language": "python",
      "name": "python3"
    },
    "language_info": {
      "codemirror_mode": {
        "name": "ipython",
        "version": 3
      },
      "file_extension": ".py",
      "mimetype": "text/x-python",
      "name": "python",
      "nbconvert_exporter": "python",
      "pygments_lexer": "ipython3",
      "version": "3.11.4"
    },
    "colab": {
      "provenance": [],
      "include_colab_link": true
    }
  },
  "nbformat": 4,
  "nbformat_minor": 5
}